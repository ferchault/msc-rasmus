{
 "metadata": {
  "name": "",
  "signature": "sha256:a56e245d865181a870ec6427a7079193e5b6265ff25c31c2f459beb0e7a216c8"
 },
 "nbformat": 3,
 "nbformat_minor": 0,
 "worksheets": [
  {
   "cells": [
    {
     "cell_type": "code",
     "collapsed": false,
     "input": [
      "import MDAnalysis\n",
      "from MDAnalysis.analysis import *\n",
      "from MDAnalysis.tests.datafiles import PSF, DCD\n",
      "import numpy as np"
     ],
     "language": "python",
     "metadata": {},
     "outputs": [],
     "prompt_number": 3
    },
    {
     "cell_type": "code",
     "collapsed": false,
     "input": [
      "h_bond_max_angle = 180-25.0\n",
      "h_bond_max_oo_dist = 3.0\n",
      "h_bond_max_ho_dist = 1.05"
     ],
     "language": "python",
     "metadata": {},
     "outputs": [],
     "prompt_number": 4
    },
    {
     "cell_type": "code",
     "collapsed": false,
     "input": [
      "u = MDAnalysis.Universe('../rasmus/input.psf','../rasmus/IOHMD-A-prod.dcd')"
     ],
     "language": "python",
     "metadata": {},
     "outputs": [],
     "prompt_number": 5
    },
    {
     "cell_type": "code",
     "collapsed": false,
     "input": [
      "ndx={}\n",
      "with open(\"../rasmus/input.ndx\") as f:\n",
      "    for line in f:\n",
      "        \n",
      "        if line.startswith('['):\n",
      "            \n",
      "            name_index_str = line.split()[1]\n",
      "        else:\n",
      "            id_list = line.split()\n",
      "            id_list = [int(i)-1 for i in id_list]\n",
      "            if id_list != []:\n",
      "                ndx[name_index_str] = id_list \n",
      "                "
     ],
     "language": "python",
     "metadata": {},
     "outputs": [],
     "prompt_number": 6
    },
    {
     "cell_type": "code",
     "collapsed": false,
     "input": [
      "hydrogen_top = u.atoms[ndx['hydrogen_top']]\n",
      "oxygen_A = u.atoms[ndx['oxygen_A']]"
     ],
     "language": "python",
     "metadata": {},
     "outputs": [],
     "prompt_number": 7
    },
    {
     "cell_type": "code",
     "collapsed": false,
     "input": [
      "#form H matrix  (given that it's a triclinic cell) \n",
      "# based on code by Guido https://github.com/mdtraj/mdtraj/issues/908\n",
      "def abc_to_hmatrix(a, b, c, alpha, beta, gamma, degrees=True):\n",
      "        if degrees:\n",
      "                alpha, beta, gamma = map(math.radians, (alpha, beta, gamma))\n",
      "        result = np.zeros((3, 3))\n",
      "\n",
      "        a = np.array((a, 0, 0))\n",
      "        b = b * np.array((math.cos(gamma), math.sin(gamma), 0))\n",
      "        bracket = (math.cos(beta) - math.cos(beta) * math.cos(gamma)) / math.sin(gamma)\n",
      "        c = c * np.array((math.cos(alpha), bracket, math.sqrt(math.sin(beta) ** 2 - bracket ** 2)))\n",
      "\n",
      "        result[:, 0] = a\n",
      "        result[:, 1] = b\n",
      "        result[:, 2] = c\n",
      "\n",
      "        return result\n",
      "hmat = abc_to_hmatrix(*u.dimensions)\n",
      "\n",
      "hinv = np.linalg.inv(hmat)\n"
     ],
     "language": "python",
     "metadata": {},
     "outputs": [],
     "prompt_number": 8
    },
    {
     "cell_type": "code",
     "collapsed": false,
     "input": [
      "oxygen_A_s = np.zeros((oxygen_A.n_atoms,3))\n",
      "hydrogen_top_s = np.zeros((hydrogen_top.n_atoms,3))\n",
      "atoms_s = np.zeros((u.atoms.n_atoms,3))\n",
      "\n",
      "for i in xrange(oxygen_A.n_atoms):\n",
      "    oxygen_A_s[i] = np.dot(hinv, oxygen_A.coordinates()[i])\n",
      "\n",
      "for i in xrange(hydrogen_top.n_atoms):\n",
      "    hydrogen_top_s[i] = np.dot(hinv, hydrogen_top.coordinates()[i])\n",
      "for i in xrange(u.atoms.n_atoms):\n",
      "    atoms_s[i] = np.dot(hinv, u.atoms.coordinates()[i])\n",
      "k=-1\n",
      "o_pairs = []\n",
      "##finds distance (note does not care about directionality)\n",
      "for i in xrange(oxygen_A.n_atoms):\n",
      "    for j in xrange(i+1, oxygen_A.n_atoms):\n",
      "        s_ij = oxygen_A_s[i] - oxygen_A_s[j]\n",
      "        s_ij = s_ij - np.round(s_ij)\n",
      "        dist = np.linalg.norm(np.dot(hmat,s_ij))\n",
      "        if dist <= h_bond_max_oo_dist:\n",
      "            o_pairs.append(oxygen_A[[i,j]])\n",
      "            \n",
      "print \n",
      "for i in xrange(len(o_pairs)):\n",
      "    j = o_pairs[i].atoms.indices[0]\n",
      "    k = o_pairs[i].atoms.indices[1]\n",
      "\n",
      "    for h in xrange(hydrogen_top.n_atoms):\n",
      "        h_index = hydrogen_top.atoms.indices[h]\n",
      "        \n",
      "        s_hj = atoms_s[j] - atoms_s[h_index]\n",
      "        s_hj = s_hj - np.round(s_hj)\n",
      "        r_hj = np.dot(hmat,s_hj)\n",
      "        \n",
      "        s_hk = atoms_s[k] - atoms_s[h_index]\n",
      "        s_hk = s_hk - np.round(s_hk)\n",
      "        r_hk = np.dot(hmat,s_hk)\n",
      "        \n",
      "        angle = np.arccos(np.dot(r_hk, r_hj)/(np.linalg.norm(r_hk)*np.linalg.norm(r_hj)))\n",
      "        angle = np.rad2deg(angle)\n",
      "        if angle >= h_bond_max_angle:\n",
      "            if np.linalg.norm(r_hk) <= h_bond_max_ho_dist or np.linalg.norm(r_hj) <= h_bond_max_ho_dist:\n",
      "                print angle, j+1, k+1 , h_index+1"
     ],
     "language": "python",
     "metadata": {},
     "outputs": [
      {
       "output_type": "stream",
       "stream": "stdout",
       "text": [
        "\n",
        "156.17404731 48 111 20\n",
        "163.083094483 75 147 24\n",
        "164.627468162 81 141 18\n",
        "163.144927948 141 144 23\n"
       ]
      }
     ],
     "prompt_number": 9
    },
    {
     "cell_type": "code",
     "collapsed": false,
     "input": [],
     "language": "python",
     "metadata": {},
     "outputs": []
    }
   ],
   "metadata": {}
  }
 ]
}