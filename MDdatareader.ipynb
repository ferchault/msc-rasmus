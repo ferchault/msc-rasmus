{
 "metadata": {
  "name": "",
  "signature": "sha256:a8d75a593560e095c1663ca97d0c738e030501187d9e151598c3cd3d3e5ce435"
 },
 "nbformat": 3,
 "nbformat_minor": 0,
 "worksheets": [
  {
   "cells": [
    {
     "cell_type": "code",
     "collapsed": false,
     "input": [
      "import MDAnalysis\n",
      "from MDAnalysis.analysis import *\n",
      "from MDAnalysis.tests.datafiles import PSF, DCD"
     ],
     "language": "python",
     "metadata": {},
     "outputs": [],
     "prompt_number": 1
    },
    {
     "cell_type": "code",
     "collapsed": false,
     "input": [
      "h_bond_max_angle = 25.0\n",
      "h_bond_max_oo_dist = 3.0"
     ],
     "language": "python",
     "metadata": {},
     "outputs": [],
     "prompt_number": 2
    },
    {
     "cell_type": "code",
     "collapsed": false,
     "input": [
      "u = MDAnalysis.Universe('data/input.psf','data/IOHMD-A-prod.dcd')"
     ],
     "language": "python",
     "metadata": {},
     "outputs": [],
     "prompt_number": 3
    },
    {
     "cell_type": "code",
     "collapsed": false,
     "input": [
      "ndx={}\n",
      "with open(\"data/input.ndx\") as f:\n",
      "    for line in f:\n",
      "        \n",
      "        if line.startswith('['):\n",
      "            \n",
      "            name_index_str = line.split()[1]\n",
      "        else:\n",
      "            id_list = line.split()\n",
      "            id_list = [int(i)-1 for i in id_list]\n",
      "            if id_list != []:\n",
      "                ndx[name_index_str] = id_list \n",
      "                "
     ],
     "language": "python",
     "metadata": {},
     "outputs": [],
     "prompt_number": 4
    },
    {
     "cell_type": "code",
     "collapsed": false,
     "input": [
      "hydrogen_top = u.atoms[ndx['hydrogen_top']]\n",
      "oxygen_A = u.atoms[ndx['oxygen_A']]"
     ],
     "language": "python",
     "metadata": {},
     "outputs": [],
     "prompt_number": 9
    },
    {
     "cell_type": "code",
     "collapsed": false,
     "input": [
      "dist = MDAnalysis.analysis.distances.self_distance_array(oxygen_A.coordinates(),u.universe.dimensions)"
     ],
     "language": "python",
     "metadata": {},
     "outputs": [],
     "prompt_number": 116
    },
    {
     "cell_type": "code",
     "collapsed": false,
     "input": [
      "print oxygen_A.coordinates()"
     ],
     "language": "python",
     "metadata": {},
     "outputs": [
      {
       "output_type": "stream",
       "stream": "stdout",
       "text": [
        "[[  3.18163395   3.80377269  26.95624542]\n",
        " [  3.17845988   0.78009349  27.07456779]\n",
        " [  0.65770298   2.3348341   27.14968872]\n",
        " [  0.80580926   8.31273174  27.02228737]\n",
        " [  0.72543991   5.18712997  27.06404686]\n",
        " [ -1.66355669   6.86830521  27.39196014]\n",
        " [  8.22848701   4.02069426  27.19019318]\n",
        " [  8.56303883   0.76771325  27.02814102]\n",
        " [  5.97942877   2.40417027  27.12462616]\n",
        " [  5.89815187   8.15428543  27.1730957 ]\n",
        " [  5.7834959    5.37854147  27.16661835]\n",
        " [  3.28199005   6.93234539  27.19491768]]\n"
       ]
      }
     ],
     "prompt_number": 148
    },
    {
     "cell_type": "code",
     "collapsed": false,
     "input": [],
     "language": "python",
     "metadata": {},
     "outputs": [
      {
       "metadata": {},
       "output_type": "pyout",
       "prompt_number": 144,
       "text": [
        "<Atom 45: O9 of type O of resname LIG, resid 1 and segid HEM>"
       ]
      }
     ],
     "prompt_number": 144
    },
    {
     "cell_type": "code",
     "collapsed": false,
     "input": [
      "MDAnalysis.lib.distances.calc_angles(oxygen_A.coordinates()[1:2],hydrogen_top.coordinates()[1],oxygen_A.coordinates()[1:2])"
     ],
     "language": "python",
     "metadata": {},
     "outputs": [
      {
       "ename": "ValueError",
       "evalue": "coords2 must be a sequence of 3 dimensional coordinates",
       "output_type": "pyerr",
       "traceback": [
        "\u001b[1;31m---------------------------------------------------------------------------\u001b[0m\n\u001b[1;31mValueError\u001b[0m                                Traceback (most recent call last)",
        "\u001b[1;32m<ipython-input-147-69d2d8ae5549>\u001b[0m in \u001b[0;36m<module>\u001b[1;34m()\u001b[0m\n\u001b[1;32m----> 1\u001b[1;33m \u001b[0mMDAnalysis\u001b[0m\u001b[1;33m.\u001b[0m\u001b[0mlib\u001b[0m\u001b[1;33m.\u001b[0m\u001b[0mdistances\u001b[0m\u001b[1;33m.\u001b[0m\u001b[0mcalc_angles\u001b[0m\u001b[1;33m(\u001b[0m\u001b[0moxygen_A\u001b[0m\u001b[1;33m.\u001b[0m\u001b[0mcoordinates\u001b[0m\u001b[1;33m(\u001b[0m\u001b[1;33m)\u001b[0m\u001b[1;33m[\u001b[0m\u001b[1;36m1\u001b[0m\u001b[1;33m:\u001b[0m\u001b[1;36m2\u001b[0m\u001b[1;33m]\u001b[0m\u001b[1;33m,\u001b[0m\u001b[0mhydrogen_top\u001b[0m\u001b[1;33m.\u001b[0m\u001b[0mcoordinates\u001b[0m\u001b[1;33m(\u001b[0m\u001b[1;33m)\u001b[0m\u001b[1;33m[\u001b[0m\u001b[1;36m1\u001b[0m\u001b[1;33m]\u001b[0m\u001b[1;33m,\u001b[0m\u001b[0moxygen_A\u001b[0m\u001b[1;33m.\u001b[0m\u001b[0mcoordinates\u001b[0m\u001b[1;33m(\u001b[0m\u001b[1;33m)\u001b[0m\u001b[1;33m[\u001b[0m\u001b[1;36m1\u001b[0m\u001b[1;33m:\u001b[0m\u001b[1;36m2\u001b[0m\u001b[1;33m]\u001b[0m\u001b[1;33m)\u001b[0m\u001b[1;33m\u001b[0m\u001b[0m\n\u001b[0m",
        "\u001b[1;32m/home/rasmus/Enthought/Canopy_64bit/User/lib/python2.7/site-packages/MDAnalysis/lib/distances.pyc\u001b[0m in \u001b[0;36mcalc_angles\u001b[1;34m(coords1, coords2, coords3, box, result)\u001b[0m\n\u001b[0;32m    483\u001b[0m \u001b[1;33m\u001b[0m\u001b[0m\n\u001b[0;32m    484\u001b[0m     \u001b[0m_check_array\u001b[0m\u001b[1;33m(\u001b[0m\u001b[0matom1\u001b[0m\u001b[1;33m,\u001b[0m \u001b[1;34m'coords1'\u001b[0m\u001b[1;33m)\u001b[0m\u001b[1;33m\u001b[0m\u001b[0m\n\u001b[1;32m--> 485\u001b[1;33m     \u001b[0m_check_array\u001b[0m\u001b[1;33m(\u001b[0m\u001b[0matom2\u001b[0m\u001b[1;33m,\u001b[0m \u001b[1;34m'coords2'\u001b[0m\u001b[1;33m)\u001b[0m\u001b[1;33m\u001b[0m\u001b[0m\n\u001b[0m\u001b[0;32m    486\u001b[0m     \u001b[0m_check_array\u001b[0m\u001b[1;33m(\u001b[0m\u001b[0matom3\u001b[0m\u001b[1;33m,\u001b[0m \u001b[1;34m'coords3'\u001b[0m\u001b[1;33m)\u001b[0m\u001b[1;33m\u001b[0m\u001b[0m\n\u001b[0;32m    487\u001b[0m     \u001b[0m_check_lengths_match\u001b[0m\u001b[1;33m(\u001b[0m\u001b[0matom1\u001b[0m\u001b[1;33m,\u001b[0m \u001b[0matom2\u001b[0m\u001b[1;33m,\u001b[0m \u001b[0matom3\u001b[0m\u001b[1;33m)\u001b[0m\u001b[1;33m\u001b[0m\u001b[0m\n",
        "\u001b[1;32m/home/rasmus/Enthought/Canopy_64bit/User/lib/python2.7/site-packages/MDAnalysis/lib/distances.pyc\u001b[0m in \u001b[0;36m_check_array\u001b[1;34m(coords, desc)\u001b[0m\n\u001b[0;32m    111\u001b[0m     \u001b[1;32mif\u001b[0m \u001b[1;33m(\u001b[0m\u001b[0mcoords\u001b[0m\u001b[1;33m.\u001b[0m\u001b[0mndim\u001b[0m \u001b[1;33m!=\u001b[0m \u001b[1;36m2\u001b[0m \u001b[1;32mor\u001b[0m \u001b[0mcoords\u001b[0m\u001b[1;33m.\u001b[0m\u001b[0mshape\u001b[0m\u001b[1;33m[\u001b[0m\u001b[1;36m1\u001b[0m\u001b[1;33m]\u001b[0m \u001b[1;33m!=\u001b[0m \u001b[1;36m3\u001b[0m\u001b[1;33m)\u001b[0m\u001b[1;33m:\u001b[0m\u001b[1;33m\u001b[0m\u001b[0m\n\u001b[0;32m    112\u001b[0m         raise ValueError(\"{0} must be a sequence of 3 dimensional coordinates\"\n\u001b[1;32m--> 113\u001b[1;33m                          \"\".format(desc))\n\u001b[0m\u001b[0;32m    114\u001b[0m     \u001b[1;32mif\u001b[0m \u001b[0mcoords\u001b[0m\u001b[1;33m.\u001b[0m\u001b[0mdtype\u001b[0m \u001b[1;33m!=\u001b[0m \u001b[0mnp\u001b[0m\u001b[1;33m.\u001b[0m\u001b[0mfloat32\u001b[0m\u001b[1;33m:\u001b[0m\u001b[1;33m\u001b[0m\u001b[0m\n\u001b[0;32m    115\u001b[0m         \u001b[1;32mraise\u001b[0m \u001b[0mTypeError\u001b[0m\u001b[1;33m(\u001b[0m\u001b[1;34m\"{0} must be of type float32\"\u001b[0m\u001b[1;33m.\u001b[0m\u001b[0mformat\u001b[0m\u001b[1;33m(\u001b[0m\u001b[0mdesc\u001b[0m\u001b[1;33m)\u001b[0m\u001b[1;33m)\u001b[0m\u001b[1;33m\u001b[0m\u001b[0m\n",
        "\u001b[1;31mValueError\u001b[0m: coords2 must be a sequence of 3 dimensional coordinates"
       ]
      }
     ],
     "prompt_number": 147
    },
    {
     "cell_type": "code",
     "collapsed": false,
     "input": [
      "\n",
      "k = -1\n",
      "for i in xrange(oxygen_A.n_atoms-1):\n",
      "    for j in xrange(i+1 , oxygen_A.n_atoms):        \n",
      "        k += 1\n",
      "        if (dist[k] <= h_bond_max_oo_dist):\n",
      "            h = -1 \n",
      "            for h in xrange(hydrogen_top.n_atoms-1):\n",
      "                h += 1\n",
      "                #oxygen i to h hydrogen vec\n",
      "                i_to_h_vec = oxygen_A.coordinates()[i] - hydrogen_top.coordinates()[h]\n",
      "                #oxygen j to h hydrogen vec\n",
      "                j_to_h_vec = oxygen_A.coordinates()[j] - hydrogen_top.coordinates()[h]\n",
      "                \n",
      "                angle = numpy.arccos(numpy.dot(i_to_h_vec, j_to_h_vec)/(numpy.linalg.norm(i_to_h_vec)*numpy.linalg.norm(j_to_h_vec)))\n",
      "                angle = numpy.rad2deg(angle)\n",
      "                \n",
      "                if angle <= h_bond_max_angle:\n",
      "                    print dist[k]\n",
      "                    print angle, 'hydrogen' , h+1 , 'oxygen' , i+1 , j+1 \n",
      "                "
     ],
     "language": "python",
     "metadata": {},
     "outputs": [
      {
       "output_type": "stream",
       "stream": "stdout",
       "text": [
        "2.92667536883\n",
        "12.3255 hydrogen 7 oxygen 1 3\n",
        "2.92667536883\n",
        "15.3786 hydrogen 8 oxygen 1 3\n",
        "2.92667536883\n",
        "12.8494 hydrogen 10 oxygen 1 3\n",
        "2.92667536883\n",
        "5.87219 hydrogen 11 oxygen 1 3\n",
        "2.8210258992\n",
        "1.66142 hydrogen 6 oxygen 1 5\n",
        "2.8210258992\n",
        "8.07621 hydrogen 7 oxygen 1 5\n",
        "2.8210258992\n",
        "2.8934 hydrogen 8 oxygen 1 5\n",
        "2.8210258992\n",
        "9.68306 hydrogen 9 oxygen 1 5\n",
        "2.96261326318\n",
        "17.866 hydrogen 4 oxygen 2 3\n",
        "2.96261326318\n",
        "8.25264 hydrogen 6 oxygen 2 3\n",
        "2.96261326318\n",
        "17.2426 hydrogen 7 oxygen 2 3\n",
        "2.96261326318\n",
        "12.4254 hydrogen 8 oxygen 2 3\n",
        "2.96261326318\n",
        "21.4066 hydrogen 10 oxygen 2 3\n",
        "2.85438514935\n",
        "8.4747 hydrogen 4 oxygen 3 5\n",
        "2.85438514935\n",
        "19.8372 hydrogen 7 oxygen 3 5\n",
        "2.85438514935\n",
        "17.9133 hydrogen 8 oxygen 3 5\n",
        "2.85438514935\n",
        "17.3365 hydrogen 10 oxygen 3 5\n",
        "2.85438514935\n",
        "24.5224 hydrogen 11 oxygen 3 5\n",
        "2.85438514935\n",
        "18.4274 hydrogen 12 oxygen 3 5\n",
        "2.88457878828\n",
        "20.1026 hydrogen 2 oxygen 4 6\n",
        "2.88457878828\n",
        "13.4193 hydrogen 7 oxygen 4 6\n",
        "2.88457878828\n",
        "12.8702 hydrogen 8 oxygen 4 6\n",
        "2.88457878828\n",
        "18.2532 hydrogen 9 oxygen 4 6\n",
        "2.88457878828\n",
        "12.7061 hydrogen 10 oxygen 4 6\n",
        "2.88457878828\n",
        "17.1129 hydrogen 11 oxygen 4 6\n",
        "2.99327574272\n",
        "23.6038 hydrogen 8 oxygen 4 9\n",
        "2.84020052464\n",
        "17.1358 hydrogen 2 oxygen 4 12\n",
        "2.84020052464\n",
        "21.3554 hydrogen 6 oxygen 4 12\n",
        "2.84020052464\n",
        "1.45965 hydrogen 7 oxygen 4 12\n",
        "2.84020052464\n",
        "3.57089 hydrogen 8 oxygen 4 12\n",
        "2.84020052464\n",
        "9.99458 hydrogen 9 oxygen 4 12\n",
        "2.84020052464\n",
        "8.75802 hydrogen 11 oxygen 4 12\n",
        "2.93958914151\n",
        "10.4503 hydrogen 2 oxygen 5 6\n",
        "2.93958914151\n",
        "12.5358 hydrogen 6 oxygen 5 6\n",
        "2.93958914151\n",
        "5.99744 hydrogen 7 oxygen 5 6\n",
        "2.93958914151\n",
        "3.28521 hydrogen 8 oxygen 5 6\n",
        "2.93958914151\n",
        "5.65062 hydrogen 9 oxygen 5 6\n",
        "2.93958914151\n",
        "22.2783 hydrogen 10 oxygen 5 6\n",
        "2.93958914151\n",
        "16.4668 hydrogen 11 oxygen 5 6\n",
        "2.97064267169\n",
        "15.4239 hydrogen 6 oxygen 5 7\n",
        "2.87494324769\n",
        "3.28575 hydrogen 6 oxygen 6 7\n",
        "2.77050750076\n",
        "7.80655 hydrogen 2 oxygen 7 9\n",
        "2.77050750076\n",
        "12.6866 hydrogen 3 oxygen 7 9\n",
        "2.77050750076\n",
        "18.0518 hydrogen 4 oxygen 7 9\n",
        "2.77050750076\n",
        "21.1148 hydrogen 5 oxygen 7 9\n",
        "2.77050750076\n",
        "12.8845 hydrogen 6 oxygen 7 9\n",
        "2.77050750076\n",
        "24.1534 hydrogen 12 oxygen 7 9\n",
        "2.79683506217\n",
        "18.8258 hydrogen 3 oxygen 7 11\n",
        "2.79683506217\n",
        "2.68008 hydrogen 4 oxygen 7 11\n",
        "2.79683506217\n",
        "8.12734 hydrogen 5 oxygen 7 11\n",
        "2.79683506217\n",
        "4.18334 hydrogen 6 oxygen 7 11\n",
        "2.79683506217\n",
        "19.2668 hydrogen 7 oxygen 7 11\n",
        "2.79683506217\n",
        "20.0443 hydrogen 8 oxygen 7 11\n",
        "2.79683506217\n",
        "1.05999 hydrogen 12 oxygen 7 11\n",
        "2.74558525455\n",
        "17.591 hydrogen 4 oxygen 8 12\n",
        "2.74558525455\n",
        "22.9887 hydrogen 12 oxygen 8 12\n",
        "2.98111338868\n",
        "17.6744 hydrogen 4 oxygen 9 11\n",
        "2.98111338868\n",
        "17.0118 hydrogen 6 oxygen 9 11\n",
        "2.98111338868\n",
        "6.67191 hydrogen 10 oxygen 9 11\n",
        "2.98111338868\n",
        "12.8824 hydrogen 11 oxygen 9 11\n",
        "2.98111338868\n",
        "23.8303 hydrogen 12 oxygen 9 11\n",
        "2.77811851562\n",
        "8.38469 hydrogen 2 oxygen 10 11\n",
        "2.77811851562\n",
        "17.4718 hydrogen 3 oxygen 10 11\n",
        "2.77811851562\n",
        "18.7185 hydrogen 6 oxygen 10 11\n",
        "2.77811851562\n",
        "24.0853 hydrogen 7 oxygen 10 11\n",
        "2.77811851562\n",
        "15.0787 hydrogen 8 oxygen 10 11\n",
        "2.77811851562\n",
        "8.94593 hydrogen 9 oxygen 10 11\n",
        "2.88754503808\n",
        "18.9325 hydrogen 2 oxygen 10 12\n",
        "2.88754503808\n",
        "13.3546 hydrogen 3 oxygen 10 12\n",
        "2.88754503808\n",
        "2.5078 hydrogen 5 oxygen 10 12\n",
        "2.88754503808\n",
        "8.98787 hydrogen 6 oxygen 10 12\n",
        "2.88754503808\n",
        "21.0426 hydrogen 8 oxygen 10 12\n",
        "2.94493446491\n",
        "6.93681 hydrogen 4 oxygen 11 12\n",
        "2.94493446491\n",
        "9.76795 hydrogen 6 oxygen 11 12\n",
        "2.94493446491\n",
        "2.31122 hydrogen 7 oxygen 11 12\n",
        "2.94493446491\n",
        "5.96631 hydrogen 8 oxygen 11 12\n",
        "2.94493446491\n",
        "7.07729 hydrogen 12 oxygen 11 12\n"
       ]
      }
     ],
     "prompt_number": 135
    },
    {
     "cell_type": "code",
     "collapsed": false,
     "input": [],
     "language": "python",
     "metadata": {},
     "outputs": [],
     "prompt_number": 24
    }
   ],
   "metadata": {}
  }
 ]
}